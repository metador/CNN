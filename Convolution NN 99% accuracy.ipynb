{
 "cells": [
  {
   "cell_type": "markdown",
   "metadata": {},
   "source": [
    "Fist lets import the some necessary libraries and the Mist dataset"
   ]
  },
  {
   "cell_type": "code",
   "execution_count": null,
   "metadata": {
    "collapsed": true
   },
   "outputs": [],
   "source": []
  },
  {
   "cell_type": "code",
   "execution_count": null,
   "metadata": {
    "collapsed": true
   },
   "outputs": [],
   "source": []
  },
  {
   "cell_type": "code",
   "execution_count": 45,
   "metadata": {},
   "outputs": [
    {
     "name": "stdout",
     "output_type": "stream",
     "text": [
      "Extracting MNIST_data/train-images-idx3-ubyte.gz\n",
      "Extracting MNIST_data/train-labels-idx1-ubyte.gz\n",
      "Extracting MNIST_data/t10k-images-idx3-ubyte.gz\n",
      "Extracting MNIST_data/t10k-labels-idx1-ubyte.gz\n"
     ]
    }
   ],
   "source": [
    "import tensorflow as tf\n",
    "import numpy as np\n",
    "import pandas as pd\n",
    "import seaborn as sns\n",
    "import matplotlib.pyplot as plt\n",
    "from tensorflow.examples.tutorials.mnist import input_data\n",
    "mnist = input_data.read_data_sets(\"MNIST_data/\", one_hot=True)\n",
    "%matplotlib inline"
   ]
  },
  {
   "cell_type": "code",
   "execution_count": 57,
   "metadata": {},
   "outputs": [
    {
     "name": "stdout",
     "output_type": "stream",
     "text": [
      "Extracting MNIST_data/train-images-idx3-ubyte.gz\n",
      "Extracting MNIST_data/train-labels-idx1-ubyte.gz\n",
      "Extracting MNIST_data/t10k-images-idx3-ubyte.gz\n",
      "Extracting MNIST_data/t10k-labels-idx1-ubyte.gz\n"
     ]
    }
   ],
   "source": [
    "from tensorflow.examples.tutorials.mnist import input_data\n",
    "mnist = input_data.read_data_sets(\"MNIST_data/\", one_hot=True)"
   ]
  },
  {
   "cell_type": "code",
   "execution_count": null,
   "metadata": {},
   "outputs": [],
   "source": [
    "def preprocess(data, image_width=28,image_heigth=28):\n",
    "    return data.reshape(image_width,image_heigth)\n",
    "\n",
    "train = np.array([i.reshape(28,28) for i in mnist.train.images])"
   ]
  },
  {
   "cell_type": "code",
   "execution_count": 8,
   "metadata": {},
   "outputs": [],
   "source": [
    "image_width = 28\n",
    "image_heigth = 28\n",
    "conv_fmaps= 64\n",
    "conv_ksize = 6\n",
    "\n",
    "pool_size = (4)\n",
    "pool_stride = 1\n",
    "n_outputs = 10\n",
    "max_pool_dropout_rate = 0.5\n",
    "training = tf.placeholder_with_default(False, shape=[], name='training')\n",
    "fc_dropout_rate = 0.25\n",
    "\n",
    "x = tf.placeholder(tf.float32,shape = [None,28,28])\n",
    "\n",
    "y = tf.placeholder(tf.float32, shape=[None,10])\n",
    "\n",
    "conv1 = tf.layers.conv1d(x,filters=conv_fmaps,kernel_size=conv_ksize,activation=tf.nn.relu)\n",
    "#conv2 = tf.layers.conv1d(conv1,filters=conv_fmap,kernel_size=conv_ksize,activation=tf.nn.relu)\n",
    "max_pool = tf.layers.max_pooling1d(conv1,pool_size=pool_size,strides=pool_stride)\n",
    "max_pool_drop = tf.layers.dropout(max_pool,rate=max_pool_dropout_rate, training=training)\n",
    "max_pool_flatten = tf.reshape(max_pool_drop,shape =[-1,20*64])\n",
    "y_=tf.layers.dense(max_pool_flatten,n_outputs, activation=tf.nn.relu)\n",
    "loss = tf.reduce_mean(tf.nn.softmax_cross_entropy_with_logits_v2(logits=y_,labels=y))\n",
    "optimizer = tf.train.AdamOptimizer()\n",
    "training_op = optimizer.minimize(loss)"
   ]
  },
  {
   "cell_type": "code",
   "execution_count": 9,
   "metadata": {},
   "outputs": [
    {
     "data": {
      "text/plain": [
       "<tf.Tensor 'max_pooling1d_2/Squeeze:0' shape=(?, 20, 64) dtype=float32>"
      ]
     },
     "execution_count": 9,
     "metadata": {},
     "output_type": "execute_result"
    }
   ],
   "source": [
    "max_pool"
   ]
  },
  {
   "cell_type": "code",
   "execution_count": 10,
   "metadata": {},
   "outputs": [
    {
     "name": "stderr",
     "output_type": "stream",
     "text": [
      "C:\\Anaconda\\envs\\tensorflow\\lib\\site-packages\\tensorflow\\python\\client\\session.py:1711: UserWarning: An interactive session is already active. This can cause out-of-memory errors in some cases. You must explicitly call `InteractiveSession.close()` to release resources held by the other session(s).\n",
      "  warnings.warn('An interactive session is already active. This can '\n"
     ]
    },
    {
     "name": "stdout",
     "output_type": "stream",
     "text": [
      "Extracting MNIST_data/train-images-idx3-ubyte.gz\n",
      "Extracting MNIST_data/train-labels-idx1-ubyte.gz\n",
      "Extracting MNIST_data/t10k-images-idx3-ubyte.gz\n",
      "Extracting MNIST_data/t10k-labels-idx1-ubyte.gz\n",
      "i= 1001\n",
      "1.0\n",
      "0.97333336\n",
      "i= 2003\n",
      "0.99333334\n",
      "0.97333336\n",
      "i= 3005\n",
      "1.0\n",
      "0.9866667\n",
      "i= 4007\n",
      "0.9866667\n",
      "0.9866667\n",
      "i= 5009\n",
      "0.9866667\n",
      "0.99333334\n",
      "i= 6011\n",
      "1.0\n",
      "0.99333334\n",
      "i= 7013\n",
      "1.0\n",
      "0.99333334\n",
      "i= 8015\n",
      "0.99333334\n",
      "0.9866667\n",
      "i= 9017\n",
      "1.0\n",
      "0.99333334\n",
      "i= 10019\n",
      "1.0\n",
      "1.0\n",
      "i= 11021\n",
      "1.0\n",
      "0.9866667\n",
      "i= 12023\n",
      "1.0\n",
      "0.99333334\n",
      "i= 13025\n",
      "1.0\n",
      "0.99333334\n",
      "i= 14027\n",
      "0.99333334\n",
      "0.9866667\n",
      "i= 15029\n",
      "1.0\n",
      "1.0\n",
      "i= 16031\n",
      "0.9866667\n",
      "0.99333334\n",
      "i= 17033\n",
      "1.0\n",
      "0.9866667\n",
      "i= 18035\n",
      "1.0\n",
      "1.0\n",
      "i= 19037\n",
      "1.0\n",
      "0.99333334\n",
      "i= 20039\n",
      "1.0\n",
      "1.0\n",
      "i= 21041\n",
      "1.0\n",
      "0.98\n",
      "i= 22043\n",
      "0.99333334\n",
      "0.9866667\n",
      "i= 23045\n",
      "1.0\n",
      "0.99333334\n",
      "i= 24047\n",
      "1.0\n",
      "0.99333334\n",
      "i= 25049\n",
      "1.0\n",
      "0.98\n",
      "i= 26051\n",
      "1.0\n",
      "0.9866667\n",
      "i= 27053\n",
      "1.0\n",
      "0.97333336\n",
      "i= 28055\n",
      "1.0\n",
      "0.99333334\n",
      "i= 29057\n",
      "1.0\n",
      "0.9866667\n",
      "i= 30059\n",
      "1.0\n",
      "0.98\n",
      "i= 31061\n",
      "1.0\n",
      "0.9866667\n",
      "i= 32063\n",
      "1.0\n",
      "0.9866667\n",
      "i= 33065\n",
      "1.0\n",
      "0.99333334\n",
      "i= 34067\n",
      "1.0\n",
      "1.0\n",
      "i= 35069\n",
      "1.0\n",
      "0.99333334\n",
      "i= 36071\n",
      "1.0\n",
      "1.0\n",
      "i= 37073\n",
      "1.0\n",
      "1.0\n",
      "i= 38075\n",
      "1.0\n",
      "1.0\n",
      "i= 39077\n",
      "1.0\n",
      "0.9866667\n",
      "i= 40079\n",
      "1.0\n",
      "0.99333334\n",
      "i= 41081\n",
      "1.0\n",
      "0.9866667\n",
      "i= 42083\n",
      "0.99333334\n",
      "1.0\n",
      "i= 43085\n",
      "1.0\n",
      "0.98\n",
      "i= 44087\n",
      "1.0\n",
      "0.9866667\n",
      "i= 45089\n",
      "1.0\n",
      "0.9866667\n",
      "i= 46091\n",
      "0.99333334\n",
      "0.98\n",
      "i= 47093\n",
      "1.0\n",
      "1.0\n",
      "i= 48095\n",
      "0.99333334\n",
      "0.97333336\n",
      "i= 49097\n",
      "1.0\n",
      "0.9866667\n",
      "i= 50099\n",
      "1.0\n",
      "0.99333334\n",
      "i= 51101\n",
      "1.0\n",
      "0.9866667\n",
      "i= 52103\n",
      "1.0\n",
      "0.99333334\n",
      "i= 53105\n",
      "1.0\n",
      "0.98\n",
      "i= 54107\n",
      "0.99333334\n",
      "0.9866667\n",
      "i= 55109\n",
      "1.0\n",
      "0.98\n",
      "i= 56111\n",
      "1.0\n",
      "0.9866667\n",
      "i= 57113\n",
      "1.0\n",
      "0.98\n",
      "i= 58115\n",
      "0.99333334\n",
      "1.0\n",
      "i= 59117\n",
      "1.0\n",
      "0.99333334\n"
     ]
    }
   ],
   "source": [
    "tf.InteractiveSession().close()\n",
    "sess = tf.InteractiveSession()\n",
    "tf.global_variables_initializer().run()\n",
    "\n",
    "correct_prediction1 = tf.equal(tf.argmax(y,1), tf.argmax(y_,1))\n",
    "accuracy = tf.reduce_mean(tf.cast(correct_prediction1, tf.float32))\n",
    "mnist = input_data.read_data_sets(\"MNIST_data/\", one_hot=True)\n",
    "\n",
    "tf.global_variables_initializer().run()\n",
    "c=0\n",
    "for i in range(60000):\n",
    "    batch_xs, batch_ys = mnist.train.next_batch(150)\n",
    "    batch_xs = np.array([i.reshape(28,28) for i in batch_xs])\n",
    "    sess.run(training_op, feed_dict={x: batch_xs, y: batch_ys, training:True})\n",
    "    if c >1000:\n",
    "        print(\"i=\",i)\n",
    "        batch_xs_test, batch_ys_test = mnist.test.next_batch(150)\n",
    "        batch_xs_test = np.array([i.reshape(28,28) for i in batch_xs_test])\n",
    "        print(accuracy.eval(feed_dict={x: batch_xs, y: batch_ys}))\n",
    "        print(accuracy.eval(feed_dict={x: batch_xs_test, y: batch_ys_test}))\n",
    "        c=0\n",
    "    else:\n",
    "        c+=1\n"
   ]
  },
  {
   "cell_type": "code",
   "execution_count": 61,
   "metadata": {},
   "outputs": [
    {
     "name": "stdout",
     "output_type": "stream",
     "text": [
      "0.9894\n"
     ]
    }
   ],
   "source": [
    "test_reshaped = np.array([i.reshape(28,28) for i in mnist.test.images])\n",
    "print(accuracy.eval(feed_dict={x: test_reshaped, y: mnist.test.labels}))"
   ]
  },
  {
   "cell_type": "code",
   "execution_count": 62,
   "metadata": {},
   "outputs": [
    {
     "name": "stdout",
     "output_type": "stream",
     "text": [
      "Total number of misclassified images= 106\n"
     ]
    }
   ],
   "source": [
    "correct_vals = sess.run(correct_prediction1, feed_dict ={x:test_reshaped,y:mnist.test.labels})\n",
    "pred_vals = sess.run(y_,feed_dict={x:test_reshaped})\n",
    "\n",
    "print(\"Total number of misclassified images=\",correct_vals.shape[0]- np.sum(correct_vals))"
   ]
  },
  {
   "cell_type": "code",
   "execution_count": null,
   "metadata": {
    "collapsed": true
   },
   "outputs": [],
   "source": []
  },
  {
   "cell_type": "code",
   "execution_count": 108,
   "metadata": {},
   "outputs": [
    {
     "data": {
      "text/plain": [
       "array([[<matplotlib.axes._subplots.AxesSubplot object at 0x0000014A93EA26A0>]],\n",
       "      dtype=object)"
      ]
     },
     "execution_count": 108,
     "metadata": {},
     "output_type": "execute_result"
    },
    {
     "data": {
      "image/png": "[encoded data removed]",
      "text/plain": [
       "<matplotlib.figure.Figure at 0x14a93e800b8>"
      ]
     },
     "metadata": {},
     "output_type": "display_data"
    },
    {
     "data": {
      "image/png": "[encoded data removed]",
      "text/plain": [
       "<matplotlib.figure.Figure at 0x14a93e79be0>"
      ]
     },
     "metadata": {},
     "output_type": "display_data"
    }
   ],
   "source": [
    "\n",
    "incorrect_labels = []\n",
    "true_labels = []\n",
    "for i,vals in enumerate(correct_vals):\n",
    "    \n",
    "    if  not vals:\n",
    "        #plt.subplot()\n",
    "        image = mnist.test.images[i].reshape(28,28)\n",
    "        #print(i)\n",
    "        #plt.imshow(image)\n",
    "        #print (\"Predicted label\",np.argmax(pred_vals[i],0))\n",
    "        #print(\"True label\",np.argmax(mnist.test.labels[i],0))\n",
    "        incorrect_labels.append(np.argmax(pred_vals[i],0))\n",
    "        true_labels.append(np.argmax(mnist.test.labels[i],0))\n",
    "\n",
    "incorrect_labels_pd = pd.DataFrame(incorrect_labels)\n",
    "incorrect_labels_pd.hist() \n",
    "true_labels_pd = pd.DataFrame(true_labels)\n",
    "true_labels_pd.hist()"
   ]
  },
  {
   "cell_type": "code",
   "execution_count": 131,
   "metadata": {},
   "outputs": [],
   "source": [
    "s= pd.get_dummies(incorrect_labels)\n",
    "c = pd.get_dummies(true_labels)\n",
    "d = pd.concat([s,c],axis=1, keys = ['incorrect','correct'])\n",
    "#d.pivot_table(index = 'incorrect',margins = 'correct*')"
   ]
  }
 ],
 "metadata": {
  "kernelspec": {
   "display_name": "Python [conda env:tensorflow]",
   "language": "python",
   "name": "conda-env-tensorflow-py"
  },
  "language_info": {
   "codemirror_mode": {
    "name": "ipython",
    "version": 3
   },
   "file_extension": ".py",
   "mimetype": "text/x-python",
   "name": "python",
   "nbconvert_exporter": "python",
   "pygments_lexer": "ipython3",
   "version": "3.5.4"
  }
 },
 "nbformat": 4,
 "nbformat_minor": 2
}
